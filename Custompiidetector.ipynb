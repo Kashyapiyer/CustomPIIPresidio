{
  "nbformat": 4,
  "nbformat_minor": 0,
  "metadata": {
    "colab": {
      "provenance": []
    },
    "kernelspec": {
      "name": "python3",
      "display_name": "Python 3"
    },
    "language_info": {
      "name": "python"
    }
  },
  "cells": [
    {
      "cell_type": "code",
      "execution_count": 1,
      "metadata": {
        "id": "x_u6ooQHafRh"
      },
      "outputs": [],
      "source": [
        "!pip -q install presidio_analyzer presidio_anonymizer"
      ]
    },
    {
      "cell_type": "code",
      "source": [
        "from Custompiidetector import *\n",
        "from piihelper import *"
      ],
      "metadata": {
        "id": "WUZMVm-zaxsp"
      },
      "execution_count": 2,
      "outputs": []
    },
    {
      "cell_type": "code",
      "source": [
        "cnfobj = read_json_conf(cnffilename='/content/config.json')"
      ],
      "metadata": {
        "id": "QihlBp0IsgMi"
      },
      "execution_count": 3,
      "outputs": []
    },
    {
      "cell_type": "code",
      "source": [
        "cnfobj['doanonymize']"
      ],
      "metadata": {
        "colab": {
          "base_uri": "https://localhost:8080/"
        },
        "id": "bcYUa4tNx9L9",
        "outputId": "6ec44258-86e5-4465-86e7-55d993bd074d"
      },
      "execution_count": 4,
      "outputs": [
        {
          "output_type": "execute_result",
          "data": {
            "text/plain": [
              "False"
            ]
          },
          "metadata": {},
          "execution_count": 4
        }
      ]
    },
    {
      "cell_type": "code",
      "source": [
        "def checkpiiinformation(contextstr, configobj=cnfobj):\n",
        "       detector = Custompiidetectorandanonimizer(configobj)\n",
        "       result = detector.customanalyzer(contextstr)\n",
        "       return result"
      ],
      "metadata": {
        "id": "D97QqT9V6gf4"
      },
      "execution_count": 5,
      "outputs": []
    },
    {
      "cell_type": "code",
      "source": [
        "checkpiiinformation(contextstr=\"Explain 314b\")"
      ],
      "metadata": {
        "colab": {
          "base_uri": "https://localhost:8080/"
        },
        "id": "8EmpxGe8geQF",
        "outputId": "9bd207d1-3d69-42e3-eb71-77c567216b30"
      },
      "execution_count": 6,
      "outputs": [
        {
          "output_type": "execute_result",
          "data": {
            "text/plain": [
              "{'piidetected': False, 'contextsupplied': 'Explain 314b'}"
            ]
          },
          "metadata": {},
          "execution_count": 6
        }
      ]
    },
    {
      "cell_type": "code",
      "source": [
        "checkpiiinformation(contextstr=\"His new account is  3690859741294280 also what is 314b\")"
      ],
      "metadata": {
        "colab": {
          "base_uri": "https://localhost:8080/"
        },
        "id": "xtCvCJzZg-II",
        "outputId": "f84c44c8-36cd-440f-d59f-5d786fdc18c3"
      },
      "execution_count": 7,
      "outputs": [
        {
          "output_type": "execute_result",
          "data": {
            "text/plain": [
              "{'textdetected': ['3690859741294280'],\n",
              " 'entitiesdetected': ['US_BANK_NUMBER'],\n",
              " 'score': 0.4,\n",
              " 'anonimizedtext': None,\n",
              " 'piidetected': True,\n",
              " 'contextsupplied': 'His new account is  3690859741294280 also what is 314b'}"
            ]
          },
          "metadata": {},
          "execution_count": 7
        }
      ]
    },
    {
      "cell_type": "markdown",
      "source": [
        "# Enforce Anonymization"
      ],
      "metadata": {
        "id": "UFiYaD46zcgL"
      }
    },
    {
      "cell_type": "code",
      "source": [
        "cnfobj['doanonymize'] = True"
      ],
      "metadata": {
        "id": "0hmtV0ZEzXj7"
      },
      "execution_count": 8,
      "outputs": []
    },
    {
      "cell_type": "code",
      "source": [
        "checkpiiinformation(contextstr=\"His new account is  3690859741294280 also what is 314b\", configobj=cnfobj)"
      ],
      "metadata": {
        "colab": {
          "base_uri": "https://localhost:8080/"
        },
        "id": "4ZlT_-FuvZQ8",
        "outputId": "3b991b75-882d-4448-94d6-9d4b78a69c6a"
      },
      "execution_count": 9,
      "outputs": [
        {
          "output_type": "execute_result",
          "data": {
            "text/plain": [
              "{'textdetected': ['3690859741294280'],\n",
              " 'entitiesdetected': ['US_BANK_NUMBER'],\n",
              " 'score': 0.4,\n",
              " 'anonimizedtext': 'His new account is  <US_BANK_NUMBER> also what is 314b',\n",
              " 'piidetected': True,\n",
              " 'contextsupplied': 'His new account is  3690859741294280 also what is 314b'}"
            ]
          },
          "metadata": {},
          "execution_count": 9
        }
      ]
    },
    {
      "cell_type": "code",
      "source": [
        "checkpiiinformation(contextstr=\"Mark conveyed his DOB as 25-Jan-1991 and account number as 3690859741294280\")"
      ],
      "metadata": {
        "colab": {
          "base_uri": "https://localhost:8080/"
        },
        "id": "eWRwuCNohVp0",
        "outputId": "570823ac-73cd-4d5e-f2f8-130164dcffef"
      },
      "execution_count": 10,
      "outputs": [
        {
          "output_type": "execute_result",
          "data": {
            "text/plain": [
              "{'textdetected': ['Mark', '25-Jan-1991', '3690859741294280'],\n",
              " 'entitiesdetected': ['PERSON', 'DATE_TIME', 'US_BANK_NUMBER'],\n",
              " 'score': 0.4,\n",
              " 'anonimizedtext': '<PERSON> conveyed his DOB as <DATE_TIME> and account number as <US_BANK_NUMBER>',\n",
              " 'piidetected': True,\n",
              " 'contextsupplied': 'Mark conveyed his DOB as 25-Jan-1991 and account number as 3690859741294280'}"
            ]
          },
          "metadata": {},
          "execution_count": 10
        }
      ]
    },
    {
      "cell_type": "code",
      "source": [
        "checkpiiinformation(contextstr=\"\"\"If AI becomes less expensive to use, we think businesses will adopt it more quickly, making a greater investment in AI software,” according to James Egelhof, chief U.S. economist at BNP Paribas. “We think this acceleration in adoption could mean a rise in software investment that offsets – or even dwarfs – any deceleration in spending on data center structures, hardware and related investment.\"\"\")"
      ],
      "metadata": {
        "colab": {
          "base_uri": "https://localhost:8080/"
        },
        "id": "V15EyqVK0H1B",
        "outputId": "9c1082cc-a4ef-430e-dba4-275331df630f"
      },
      "execution_count": 11,
      "outputs": [
        {
          "output_type": "execute_result",
          "data": {
            "text/plain": [
              "{'textdetected': ['James Egelhof', 'U.S.'],\n",
              " 'entitiesdetected': ['PERSON', 'LOCATION'],\n",
              " 'score': 0.85,\n",
              " 'anonimizedtext': 'If AI becomes less expensive to use, we think businesses will adopt it more quickly, making a greater investment in AI software,” according to <PERSON>, chief <LOCATION> economist at BNP Paribas. “We think this acceleration in adoption could mean a rise in software investment that offsets – or even dwarfs – any deceleration in spending on data center structures, hardware and related investment.',\n",
              " 'piidetected': True,\n",
              " 'contextsupplied': 'If AI becomes less expensive to use, we think businesses will adopt it more quickly, making a greater investment in AI software,” according to James Egelhof, chief U.S. economist at BNP Paribas. “We think this acceleration in adoption could mean a rise in software investment that offsets – or even dwarfs – any deceleration in spending on data center structures, hardware and related investment.'}"
            ]
          },
          "metadata": {},
          "execution_count": 11
        }
      ]
    },
    {
      "cell_type": "code",
      "source": [
        "Nvidianasdaqtestcase= \"\"\"The Nasdaq led gains and AI chip leader Nvidia gave the index its biggest boost, a day after Nvidia's 17% drop erased about $593 billion from its market value in the biggest single-session loss for any company.\n",
        "The S&P 500 technology sector rose the most of any S&P 500 sector, while an index of semiconductor shares also gained.\n",
        "Investors were eager to hear from Apple, Microsoft and other companies when they report quarterly results this week.\n",
        "The tech sell-off followed Chinese startup DeepSeek's launch of AI models it said were on a par or better than industry-leading U.S. rivals at a fraction of the cost.\n",
        "\"We're getting the typical bounceback rally you'd expect when you have news that's not very specific and more of a potential for a future change,\" said Rick Meckler, partner, Cherry Lane Investments, a family investment office in New Vernon, New Jersey.\n",
        "\"Some of the tech market, particularly around AI, was ready for a bit of a sell-off, and this news provided the excuse for it. Today you're seeing the bargain hunters come back in and also those who are discounting the news about DeepSeek since we don't really know very much about it.\"\n",
        "Nvidia's forward price-to-earnings ratio, a common valuation metric, earlier hit its cheapest level since December 2023.\n",
        "According to preliminary data, the S&P 500 gained 54.68 points, or 0.91%, to end at 6,066.96 points, while the Nasdaq Composite gained 391.75 points, or 2.03%, to 19,733.59. The Dow Jones Industrial Average rose 134.17 points, or 0.30%, to 44,847.71.\n",
        "Fourth-quarter 2024 U.S. earnings season is in full swing, with shares of Royal Caribbean rallying after the cruise operator forecast annual profit largely above expectations.\n",
        "Boeing shares were volatile after the planemaker reported its biggest annual loss since 2020. General Motors shares fell following its results and outlook, with investors weighing the threat of tariffs that could hit the automaker's business.\n",
        "U.S. President Donald Trump said late on Monday he plans to impose tariffs on imported computer chips, pharmaceuticals and steel.\n",
        "On Wednesday, the Federal Reserve is widely expected to hold its lending rate steady in its first interest-rate decision of the year.\n",
        "\"\"\"\n"
      ],
      "metadata": {
        "id": "ktURdGXH0U4m"
      },
      "execution_count": 12,
      "outputs": []
    },
    {
      "cell_type": "code",
      "source": [
        "checkpiiinformation(contextstr=Nvidianasdaqtestcase)"
      ],
      "metadata": {
        "colab": {
          "base_uri": "https://localhost:8080/"
        },
        "id": "wykGCMl-0qj0",
        "outputId": "be3e39fc-e2e9-41f0-80f6-442172c09a81"
      },
      "execution_count": 13,
      "outputs": [
        {
          "output_type": "execute_result",
          "data": {
            "text/plain": [
              "{'textdetected': ['a day',\n",
              "  'quarterly',\n",
              "  'this week',\n",
              "  'Chinese',\n",
              "  'U.S.',\n",
              "  'Rick Meckler',\n",
              "  'New Vernon',\n",
              "  'New Jersey',\n",
              "  'Today',\n",
              "  'December 2023',\n",
              "  '44,847.71',\n",
              "  'Fourth-quarter 2024',\n",
              "  'U.S.',\n",
              "  'season',\n",
              "  'annual',\n",
              "  'annual',\n",
              "  '2020',\n",
              "  'U.S.',\n",
              "  'Donald Trump',\n",
              "  'Monday',\n",
              "  'Wednesday',\n",
              "  'the year',\n",
              "  'technology'],\n",
              " 'entitiesdetected': ['DATE_TIME',\n",
              "  'DATE_TIME',\n",
              "  'DATE_TIME',\n",
              "  'NRP',\n",
              "  'LOCATION',\n",
              "  'PERSON',\n",
              "  'LOCATION',\n",
              "  'LOCATION',\n",
              "  'DATE_TIME',\n",
              "  'DATE_TIME',\n",
              "  'DATE_TIME',\n",
              "  'DATE_TIME',\n",
              "  'LOCATION',\n",
              "  'DATE_TIME',\n",
              "  'DATE_TIME',\n",
              "  'DATE_TIME',\n",
              "  'DATE_TIME',\n",
              "  'LOCATION',\n",
              "  'PERSON',\n",
              "  'DATE_TIME',\n",
              "  'DATE_TIME',\n",
              "  'DATE_TIME',\n",
              "  'IN_PAN'],\n",
              " 'score': 0.4,\n",
              " 'anonimizedtext': 'The Nasdaq led gains and AI chip leader Nvidia gave the index its biggest boost, <DATE_TIME> after Nvidia\\'s 17% drop erased about $593 billion from its market value in the biggest single-session loss for any company.\\nThe S&P 500 <IN_PAN> sector rose the most of any S&P 500 sector, while an index of semiconductor shares also gained.\\nInvestors were eager to hear from Apple, Microsoft and other companies when they report <DATE_TIME> results <DATE_TIME>.\\nThe tech sell-off followed <NRP> startup DeepSeek\\'s launch of AI models it said were on a par or better than industry-leading <LOCATION> rivals at a fraction of the cost.\\n\"We\\'re getting the typical bounceback rally you\\'d expect when you have news that\\'s not very specific and more of a potential for a future change,\" said <PERSON>, partner, Cherry Lane Investments, a family investment office in <LOCATION>, <LOCATION>.\\n\"Some of the tech market, particularly around AI, was ready for a bit of a sell-off, and this news provided the excuse for it. <DATE_TIME> you\\'re seeing the bargain hunters come back in and also those who are discounting the news about DeepSeek since we don\\'t really know very much about it.\"\\nNvidia\\'s forward price-to-earnings ratio, a common valuation metric, earlier hit its cheapest level since <DATE_TIME>.\\nAccording to preliminary data, the S&P 500 gained 54.68 points, or 0.91%, to end at 6,066.96 points, while the Nasdaq Composite gained 391.75 points, or 2.03%, to 19,733.59. The Dow Jones Industrial Average rose 134.17 points, or 0.30%, to <DATE_TIME>.\\n<DATE_TIME> <LOCATION> earnings <DATE_TIME> is in full swing, with shares of Royal Caribbean rallying after the cruise operator forecast <DATE_TIME> profit largely above expectations.\\nBoeing shares were volatile after the planemaker reported its biggest <DATE_TIME> loss since <DATE_TIME>. General Motors shares fell following its results and outlook, with investors weighing the threat of tariffs that could hit the automaker\\'s business.\\n<LOCATION> President <PERSON> said late on <DATE_TIME> he plans to impose tariffs on imported computer chips, pharmaceuticals and steel.\\nOn <DATE_TIME>, the Federal Reserve is widely expected to hold its lending rate steady in its first interest-rate decision of <DATE_TIME>.\\n',\n",
              " 'piidetected': True,\n",
              " 'contextsupplied': 'The Nasdaq led gains and AI chip leader Nvidia gave the index its biggest boost, a day after Nvidia\\'s 17% drop erased about $593 billion from its market value in the biggest single-session loss for any company.\\nThe S&P 500 technology sector rose the most of any S&P 500 sector, while an index of semiconductor shares also gained.\\nInvestors were eager to hear from Apple, Microsoft and other companies when they report quarterly results this week.\\nThe tech sell-off followed Chinese startup DeepSeek\\'s launch of AI models it said were on a par or better than industry-leading U.S. rivals at a fraction of the cost.\\n\"We\\'re getting the typical bounceback rally you\\'d expect when you have news that\\'s not very specific and more of a potential for a future change,\" said Rick Meckler, partner, Cherry Lane Investments, a family investment office in New Vernon, New Jersey.\\n\"Some of the tech market, particularly around AI, was ready for a bit of a sell-off, and this news provided the excuse for it. Today you\\'re seeing the bargain hunters come back in and also those who are discounting the news about DeepSeek since we don\\'t really know very much about it.\"\\nNvidia\\'s forward price-to-earnings ratio, a common valuation metric, earlier hit its cheapest level since December 2023.\\nAccording to preliminary data, the S&P 500 gained 54.68 points, or 0.91%, to end at 6,066.96 points, while the Nasdaq Composite gained 391.75 points, or 2.03%, to 19,733.59. The Dow Jones Industrial Average rose 134.17 points, or 0.30%, to 44,847.71.\\nFourth-quarter 2024 U.S. earnings season is in full swing, with shares of Royal Caribbean rallying after the cruise operator forecast annual profit largely above expectations.\\nBoeing shares were volatile after the planemaker reported its biggest annual loss since 2020. General Motors shares fell following its results and outlook, with investors weighing the threat of tariffs that could hit the automaker\\'s business.\\nU.S. President Donald Trump said late on Monday he plans to impose tariffs on imported computer chips, pharmaceuticals and steel.\\nOn Wednesday, the Federal Reserve is widely expected to hold its lending rate steady in its first interest-rate decision of the year.\\n'}"
            ]
          },
          "metadata": {},
          "execution_count": 13
        }
      ]
    },
    {
      "cell_type": "code",
      "source": [
        "Nvidiatestcase2= \"\"\"That created a concern among the investment community that Nvidia’s high GPU (graphics processing unit, or AI chip) prices could come under pressure and that demand for semiconductors could wane.\n",
        "Nvidia’s $589 billion market cap decline was the largest single-day loss in stock market history.\n",
        "The DeepSeek announcements drove down not only Nvidia but the market at large, with the tech-heavy Nasdaq (^IXIC) dropping 3%. Chip stocks dropped across the board Monday, but some names began to recover. After dropping more than 17% to start the week, Broadcom (AVGO) rose 2.6% Tuesday.\n",
        "Nvidia itself didn’t express much anxiety over the DeepSeek buzz, calling R1 \"an excellent AI advancement\" in a statement Monday.\n",
        "Wall Street analysts continued to reflect on the DeepSeek-fueled market rout Tuesday, expressing skepticism over DeepSeek’s reportedly low costs to train its AI models and the implications for AI stocks.\n",
        "JPMorgan analyst Harlan Sur and Citi analyst Christopher Danley said in separate notes to investors that because DeepSeek used a process called “distillation” — in other words, it relied on Meta’s (META) open-source Llama AI model to develop its model — the low spending cited by the Chinese startup (under $6 billion to train its recent V3 model) did not fully encompass its costs.\n",
        "“We believe it is crucial to validate these costs before drawing conclusions,” Sur wrote.\n",
        "Danley added: “Given Deepseek is based on leveraging cloud service providers [Meta] and AI is still in its infancy, we lean towards the argument of continued strong growth in AI spending.”\n",
        "Even so, DeepSeek “clearly doesn’t have access to as much compute as US hyperscalers and somehow managed to develop a model that appears highly competitive,” Raymond James analyst Srini Pajjuri wrote in a note to investors Monday.\n",
        "\"\"\""
      ],
      "metadata": {
        "id": "4WzBM0661VjC"
      },
      "execution_count": 14,
      "outputs": []
    },
    {
      "cell_type": "code",
      "source": [
        "checkpiiinformation(contextstr=Nvidiatestcase2)"
      ],
      "metadata": {
        "colab": {
          "base_uri": "https://localhost:8080/"
        },
        "id": "H598oxve1keX",
        "outputId": "dfc3627d-8800-4356-ed84-5a75f900f994"
      },
      "execution_count": 15,
      "outputs": [
        {
          "output_type": "execute_result",
          "data": {
            "text/plain": [
              "{'textdetected': ['single-day',\n",
              "  'Monday',\n",
              "  'the week',\n",
              "  'Tuesday',\n",
              "  'Monday',\n",
              "  'Tuesday',\n",
              "  'Harlan Sur',\n",
              "  'Christopher Danley',\n",
              "  'Chinese',\n",
              "  'Sur',\n",
              "  'Danley',\n",
              "  'Deepseek',\n",
              "  'US',\n",
              "  'Raymond James',\n",
              "  'Srini Pajjuri',\n",
              "  'Monday',\n",
              "  'R1',\n",
              "  'V3'],\n",
              " 'entitiesdetected': ['DATE_TIME',\n",
              "  'DATE_TIME',\n",
              "  'DATE_TIME',\n",
              "  'DATE_TIME',\n",
              "  'DATE_TIME',\n",
              "  'DATE_TIME',\n",
              "  'PERSON',\n",
              "  'PERSON',\n",
              "  'NRP',\n",
              "  'PERSON',\n",
              "  'PERSON',\n",
              "  'PERSON',\n",
              "  'LOCATION',\n",
              "  'PERSON',\n",
              "  'PERSON',\n",
              "  'DATE_TIME',\n",
              "  'US_DRIVER_LICENSE',\n",
              "  'US_DRIVER_LICENSE'],\n",
              " 'score': 0.3,\n",
              " 'anonimizedtext': 'That created a concern among the investment community that Nvidia’s high GPU (graphics processing unit, or AI chip) prices could come under pressure and that demand for semiconductors could wane.\\nNvidia’s $589 billion market cap decline was the largest <DATE_TIME> loss in stock market history.\\nThe DeepSeek announcements drove down not only Nvidia but the market at large, with the tech-heavy Nasdaq (^IXIC) dropping 3%. Chip stocks dropped across the board <DATE_TIME>, but some names began to recover. After dropping more than 17% to start <DATE_TIME>, Broadcom (AVGO) rose 2.6% <DATE_TIME>.\\nNvidia itself didn’t express much anxiety over the DeepSeek buzz, calling <US_DRIVER_LICENSE> \"an excellent AI advancement\" in a statement <DATE_TIME>.\\nWall Street analysts continued to reflect on the DeepSeek-fueled market rout <DATE_TIME>, expressing skepticism over DeepSeek’s reportedly low costs to train its AI models and the implications for AI stocks.\\nJPMorgan analyst <PERSON> and Citi analyst <PERSON> said in separate notes to investors that because DeepSeek used a process called “distillation” — in other words, it relied on Meta’s (META) open-source Llama AI model to develop its model — the low spending cited by the <NRP> startup (under $6 billion to train its recent <US_DRIVER_LICENSE> model) did not fully encompass its costs.\\n“We believe it is crucial to validate these costs before drawing conclusions,” <PERSON> wrote.\\n<PERSON> added: “Given <PERSON> is based on leveraging cloud service providers [Meta] and AI is still in its infancy, we lean towards the argument of continued strong growth in AI spending.”\\nEven so, DeepSeek “clearly doesn’t have access to as much compute as <LOCATION> hyperscalers and somehow managed to develop a model that appears highly competitive,” <PERSON> analyst <PERSON> wrote in a note to investors <DATE_TIME>.\\n',\n",
              " 'piidetected': True,\n",
              " 'contextsupplied': 'That created a concern among the investment community that Nvidia’s high GPU (graphics processing unit, or AI chip) prices could come under pressure and that demand for semiconductors could wane.\\nNvidia’s $589 billion market cap decline was the largest single-day loss in stock market history.\\nThe DeepSeek announcements drove down not only Nvidia but the market at large, with the tech-heavy Nasdaq (^IXIC) dropping 3%. Chip stocks dropped across the board Monday, but some names began to recover. After dropping more than 17% to start the week, Broadcom (AVGO) rose 2.6% Tuesday.\\nNvidia itself didn’t express much anxiety over the DeepSeek buzz, calling R1 \"an excellent AI advancement\" in a statement Monday.\\nWall Street analysts continued to reflect on the DeepSeek-fueled market rout Tuesday, expressing skepticism over DeepSeek’s reportedly low costs to train its AI models and the implications for AI stocks.\\nJPMorgan analyst Harlan Sur and Citi analyst Christopher Danley said in separate notes to investors that because DeepSeek used a process called “distillation” — in other words, it relied on Meta’s (META) open-source Llama AI model to develop its model — the low spending cited by the Chinese startup (under $6 billion to train its recent V3 model) did not fully encompass its costs.\\n“We believe it is crucial to validate these costs before drawing conclusions,” Sur wrote.\\nDanley added: “Given Deepseek is based on leveraging cloud service providers [Meta] and AI is still in its infancy, we lean towards the argument of continued strong growth in AI spending.”\\nEven so, DeepSeek “clearly doesn’t have access to as much compute as US hyperscalers and somehow managed to develop a model that appears highly competitive,” Raymond James analyst Srini Pajjuri wrote in a note to investors Monday.\\n'}"
            ]
          },
          "metadata": {},
          "execution_count": 15
        }
      ]
    },
    {
      "cell_type": "code",
      "source": [
        "coinbasetestcase = \"\"\"Coinbase CEO Brian Armstrong said 1 million new tokens are created weekly.\n",
        "He said regulators need to know that it's not \"feasible\" to evaluate each one for listing.\n",
        "Armstrong suggested a shift to a \"block list\" for crypto listings to streamline the process.\n",
        "The CEO of Coinbase says that a million new crypto coins are created every week, and it's becoming hard to evaluate them all.\n",
        "Coinbase is a popular cryptocurrency trading platform that has allowed users to trade cryptocurrencies such as bitcoin and dogecoin since 2012. The company has seen enormous growth since going public in 2022 and is now worth $74 billion.\n",
        "Coinbase, like all cryptocurrency exchanges, uses an application process for new currency listings that evaluates the coin based on the company's own digital-asset framework.\n",
        "\"High-quality problem to have, but evaluating each one by one is no longer feasible,\" Coinbase CEO Brian Armstrong wrote in a post on X on Sunday. \"And regulators need to understand that applying for approval for each one is totally infeasible at this point as well (they can't do 1m a week).\"\n",
        "Coinbase and other leading crypto companies have urged the federal government to clarify cryptocurrency regulations to ensure they can stay compliant.\n",
        "The industry is optimistic, however, with the arrival of President Donald Trump, who has made promoting crypto a central part of his agenda. Trump even launched his own meme coin shortly before his inauguration. His wife, Melania Trump, quickly followed suit.\n",
        "The number of circulating meme coins has risen in recent years. These are cryptocurrencies that are sometimes based on an internet meme or the result of a joke but are always designed to go viral in the hope of increasing their value.\n",
        "Anyone can create a meme coin online. If it does go viral, it could earn the creator, who's often the largest investor, a windfall. Influencers have caught on and now often leverage their followings to capitalize.\n",
        "Haliey Welch, known to most online as the \"Hawk Tuah Girl,\" made headlines in December after she launched her own meme coin, $hawk. The coin's total market value shot up to almost $500 million before it collapsed after just hours. Welch told Fortune at the time that the coin wasn't meant to be a \"cash grab.\" In a post on X, Welch said her team didn't sell any coins.\n",
        "Armstrong said it was time to \"rethink\" the listing process at Coinbase, advocating for regulation of the crypto listing process to move from an \"add list\" to a \"block list\" that utilizes customer reviews and automated scans of blockchain data to help with the process.\n",
        "\"\"\""
      ],
      "metadata": {
        "id": "uuWbnV0B10tm"
      },
      "execution_count": 16,
      "outputs": []
    },
    {
      "cell_type": "code",
      "source": [
        "checkpiiinformation(contextstr=coinbasetestcase)"
      ],
      "metadata": {
        "colab": {
          "base_uri": "https://localhost:8080/"
        },
        "id": "8CiQYx962RKM",
        "outputId": "7c3cbdd3-18f3-45c6-bd56-a44a00250515"
      },
      "execution_count": 17,
      "outputs": [
        {
          "output_type": "execute_result",
          "data": {
            "text/plain": [
              "{'textdetected': ['Brian Armstrong',\n",
              "  'weekly',\n",
              "  'Armstrong',\n",
              "  'every week',\n",
              "  '2012',\n",
              "  '2022',\n",
              "  'Brian Armstrong',\n",
              "  'Sunday',\n",
              "  'Donald Trump',\n",
              "  'Trump',\n",
              "  'Melania Trump',\n",
              "  'recent years',\n",
              "  'Haliey Welch',\n",
              "  'December',\n",
              "  'just hours',\n",
              "  'Welch',\n",
              "  'Welch',\n",
              "  'Armstrong'],\n",
              " 'entitiesdetected': ['PERSON',\n",
              "  'DATE_TIME',\n",
              "  'PERSON',\n",
              "  'DATE_TIME',\n",
              "  'DATE_TIME',\n",
              "  'DATE_TIME',\n",
              "  'PERSON',\n",
              "  'DATE_TIME',\n",
              "  'PERSON',\n",
              "  'PERSON',\n",
              "  'PERSON',\n",
              "  'DATE_TIME',\n",
              "  'PERSON',\n",
              "  'DATE_TIME',\n",
              "  'DATE_TIME',\n",
              "  'PERSON',\n",
              "  'PERSON',\n",
              "  'PERSON'],\n",
              " 'score': 0.85,\n",
              " 'anonimizedtext': 'Coinbase CEO <PERSON> said 1 million new tokens are created <DATE_TIME>.\\nHe said regulators need to know that it\\'s not \"feasible\" to evaluate each one for listing.\\n<PERSON> suggested a shift to a \"block list\" for crypto listings to streamline the process.\\nThe CEO of Coinbase says that a million new crypto coins are created <DATE_TIME>, and it\\'s becoming hard to evaluate them all.\\nCoinbase is a popular cryptocurrency trading platform that has allowed users to trade cryptocurrencies such as bitcoin and dogecoin since <DATE_TIME>. The company has seen enormous growth since going public in <DATE_TIME> and is now worth $74 billion.\\nCoinbase, like all cryptocurrency exchanges, uses an application process for new currency listings that evaluates the coin based on the company\\'s own digital-asset framework.\\n\"High-quality problem to have, but evaluating each one by one is no longer feasible,\" Coinbase CEO <PERSON> wrote in a post on X on <DATE_TIME>. \"And regulators need to understand that applying for approval for each one is totally infeasible at this point as well (they can\\'t do 1m a week).\"\\nCoinbase and other leading crypto companies have urged the federal government to clarify cryptocurrency regulations to ensure they can stay compliant.\\nThe industry is optimistic, however, with the arrival of President <PERSON>, who has made promoting crypto a central part of his agenda. <PERSON> even launched his own meme coin shortly before his inauguration. His wife, <PERSON>, quickly followed suit.\\nThe number of circulating meme coins has risen in <DATE_TIME>. These are cryptocurrencies that are sometimes based on an internet meme or the result of a joke but are always designed to go viral in the hope of increasing their value.\\nAnyone can create a meme coin online. If it does go viral, it could earn the creator, who\\'s often the largest investor, a windfall. Influencers have caught on and now often leverage their followings to capitalize.\\n<PERSON>, known to most online as the \"Hawk Tuah Girl,\" made headlines in <DATE_TIME> after she launched her own meme coin, $hawk. The coin\\'s total market value shot up to almost $500 million before it collapsed after <DATE_TIME>. <PERSON> told Fortune at the time that the coin wasn\\'t meant to be a \"cash grab.\" In a post on X, <PERSON> said her team didn\\'t sell any coins.\\n<PERSON> said it was time to \"rethink\" the listing process at Coinbase, advocating for regulation of the crypto listing process to move from an \"add list\" to a \"block list\" that utilizes customer reviews and automated scans of blockchain data to help with the process.\\n',\n",
              " 'piidetected': True,\n",
              " 'contextsupplied': 'Coinbase CEO Brian Armstrong said 1 million new tokens are created weekly.\\nHe said regulators need to know that it\\'s not \"feasible\" to evaluate each one for listing.\\nArmstrong suggested a shift to a \"block list\" for crypto listings to streamline the process.\\nThe CEO of Coinbase says that a million new crypto coins are created every week, and it\\'s becoming hard to evaluate them all.\\nCoinbase is a popular cryptocurrency trading platform that has allowed users to trade cryptocurrencies such as bitcoin and dogecoin since 2012. The company has seen enormous growth since going public in 2022 and is now worth $74 billion.\\nCoinbase, like all cryptocurrency exchanges, uses an application process for new currency listings that evaluates the coin based on the company\\'s own digital-asset framework.\\n\"High-quality problem to have, but evaluating each one by one is no longer feasible,\" Coinbase CEO Brian Armstrong wrote in a post on X on Sunday. \"And regulators need to understand that applying for approval for each one is totally infeasible at this point as well (they can\\'t do 1m a week).\"\\nCoinbase and other leading crypto companies have urged the federal government to clarify cryptocurrency regulations to ensure they can stay compliant.\\nThe industry is optimistic, however, with the arrival of President Donald Trump, who has made promoting crypto a central part of his agenda. Trump even launched his own meme coin shortly before his inauguration. His wife, Melania Trump, quickly followed suit.\\nThe number of circulating meme coins has risen in recent years. These are cryptocurrencies that are sometimes based on an internet meme or the result of a joke but are always designed to go viral in the hope of increasing their value.\\nAnyone can create a meme coin online. If it does go viral, it could earn the creator, who\\'s often the largest investor, a windfall. Influencers have caught on and now often leverage their followings to capitalize.\\nHaliey Welch, known to most online as the \"Hawk Tuah Girl,\" made headlines in December after she launched her own meme coin, $hawk. The coin\\'s total market value shot up to almost $500 million before it collapsed after just hours. Welch told Fortune at the time that the coin wasn\\'t meant to be a \"cash grab.\" In a post on X, Welch said her team didn\\'t sell any coins.\\nArmstrong said it was time to \"rethink\" the listing process at Coinbase, advocating for regulation of the crypto listing process to move from an \"add list\" to a \"block list\" that utilizes customer reviews and automated scans of blockchain data to help with the process.\\n'}"
            ]
          },
          "metadata": {},
          "execution_count": 17
        }
      ]
    },
    {
      "cell_type": "code",
      "source": [
        "deepseektestcase = \"\"\"AI-exposed power stocks rebounded on Tuesday after getting crushed the previous day alongside a tech rout following the release of a new AI model from the Chinese upstart DeepSeek.\n",
        "Constellation Energy (CEG), the largest nuclear plant operator in the US, gained more than 1% after tumbling 21% in the prior session.\n",
        "Electricity and power generator Vistra Corp (VST) jumped 9% after sinking by a record 28%. Meanwhile, power equipment maker and servicer GE Vernova (GEV) gained more than 7%, following a 21% drop.\n",
        "In late January, DeepSeek released a new AI model that was competitive with those of US rivals and cheaper to produce. The model surged in popularity, rising to the top of US iPhone downloads ahead of OpenAI's ChatGPT, and won praise from prominent figures. American venture capitalist Marc Andreessen called the model “one of the most amazing and impressive breakthroughs I’ve ever seen.”\n",
        "The developments have rattled investors, who bid up power stocks on the belief that US hyperscalers will pour money into building out data centers required for AI use, thereby driving a surge in energy demand. Power stocks are coming off a ripping rally in 2024 and start of the year, with Constellation, Vistra, and GE Vernova all having touched record highs just last week.\n",
        "Now, questions are emerging on whether long-term energy demand will be as strong as expected.\n",
        "\"Hopefully we can kind of resume some of the upward [stock] trend, but this really does kind of cast some uncertainty into that thesis, which has become an investor’s base case,\" said Paul Zimbardo, managing director for US power utilities and clean energy research at Jefferies.\n",
        "The analyst, however, noted data center deployment is \"very likely intact\" in the medium term. The question going forward is what happens in the later part of the decade and 2030s.\n",
        "He said, \"Does that trend accelerate in the future? Does it kind of stabilize and even see some moderation of demand growth out later in the decade?\"\n",
        "Wall Street analysts recognize estimates of data center energy usage are bound to change over time as the technology becomes more efficient.\n",
        "\"AI is, of course, very nascent, young technology, which means that trying to estimate how much energy AI will ultimately need is very speculative,\" Pavel Molchanov, investment strategy analyst at Raymond James, told Yahoo Finance on Tuesday.\n",
        "\"It's going to be a lot, and we should expect that electricity demand in the US and various other economies will accelerate as a result of AI. It's just a question of how much,\" he added.\n",
        "The increased energy needs are already visible. After nearly two decades of relatively steady demand, US electricity consumption jumped by 2% in 2024, according to government data.\n",
        "The Energy Information Administration forecasts electricity demand will continue growing at that rate in this year and 2026.\n",
        "Data center deployments are also happening at the same time that utility companies build out their electric grids and infrastructure.\n",
        "\"All of this is a marathon rather than a sprint. It takes years to build data center projects, and it takes years to build power plants and transmission grids,\" said Molchanov.\n",
        "\"\"\""
      ],
      "metadata": {
        "id": "Xr6alGgoeFIA"
      },
      "execution_count": 18,
      "outputs": []
    },
    {
      "cell_type": "code",
      "source": [
        "checkpiiinformation(contextstr=deepseektestcase)"
      ],
      "metadata": {
        "colab": {
          "base_uri": "https://localhost:8080/"
        },
        "id": "GQv53pY23TN4",
        "outputId": "ae5a0343-3a5c-4452-95ed-accadc5437a8"
      },
      "execution_count": 19,
      "outputs": [
        {
          "output_type": "execute_result",
          "data": {
            "text/plain": [
              "{'textdetected': ['Tuesday',\n",
              "  'the previous day',\n",
              "  'Chinese',\n",
              "  'US',\n",
              "  'late January',\n",
              "  'US',\n",
              "  'US',\n",
              "  'American',\n",
              "  'Marc Andreessen',\n",
              "  'US',\n",
              "  '2024',\n",
              "  'the year',\n",
              "  'just last week',\n",
              "  'Paul Zimbardo',\n",
              "  'US',\n",
              "  'the decade and',\n",
              "  'the decade and 2030s',\n",
              "  'later in the decade',\n",
              "  'Pavel Molchanov',\n",
              "  'Raymond James',\n",
              "  'Tuesday',\n",
              "  'US',\n",
              "  'AI',\n",
              "  'nearly two decades',\n",
              "  'US',\n",
              "  '2024',\n",
              "  'this year',\n",
              "  '2026',\n",
              "  'years',\n",
              "  'years',\n",
              "  'Molchanov'],\n",
              " 'entitiesdetected': ['DATE_TIME',\n",
              "  'DATE_TIME',\n",
              "  'NRP',\n",
              "  'LOCATION',\n",
              "  'DATE_TIME',\n",
              "  'LOCATION',\n",
              "  'LOCATION',\n",
              "  'NRP',\n",
              "  'PERSON',\n",
              "  'LOCATION',\n",
              "  'DATE_TIME',\n",
              "  'DATE_TIME',\n",
              "  'DATE_TIME',\n",
              "  'PERSON',\n",
              "  'LOCATION',\n",
              "  'DATE_TIME',\n",
              "  'DATE_TIME',\n",
              "  'DATE_TIME',\n",
              "  'PERSON',\n",
              "  'PERSON',\n",
              "  'DATE_TIME',\n",
              "  'LOCATION',\n",
              "  'LOCATION',\n",
              "  'DATE_TIME',\n",
              "  'LOCATION',\n",
              "  'DATE_TIME',\n",
              "  'DATE_TIME',\n",
              "  'DATE_TIME',\n",
              "  'DATE_TIME',\n",
              "  'DATE_TIME',\n",
              "  'PERSON'],\n",
              " 'score': 0.85,\n",
              " 'anonimizedtext': 'AI-exposed power stocks rebounded on <DATE_TIME> after getting crushed <DATE_TIME> alongside a tech rout following the release of a new AI model from the <NRP> upstart DeepSeek.\\nConstellation Energy (CEG), the largest nuclear plant operator in the <LOCATION>, gained more than 1% after tumbling 21% in the prior session.\\nElectricity and power generator Vistra Corp (VST) jumped 9% after sinking by a record 28%. Meanwhile, power equipment maker and servicer GE Vernova (GEV) gained more than 7%, following a 21% drop.\\nIn <DATE_TIME>, DeepSeek released a new AI model that was competitive with those of <LOCATION> rivals and cheaper to produce. The model surged in popularity, rising to the top of <LOCATION> iPhone downloads ahead of OpenAI\\'s ChatGPT, and won praise from prominent figures. <NRP> venture capitalist <PERSON> called the model “one of the most amazing and impressive breakthroughs I’ve ever seen.”\\nThe developments have rattled investors, who bid up power stocks on the belief that <LOCATION> hyperscalers will pour money into building out data centers required for AI use, thereby driving a surge in energy demand. Power stocks are coming off a ripping rally in <DATE_TIME> and start of <DATE_TIME>, with Constellation, Vistra, and GE Vernova all having touched record highs <DATE_TIME>.\\nNow, questions are emerging on whether long-term energy demand will be as strong as expected.\\n\"Hopefully we can kind of resume some of the upward [stock] trend, but this really does kind of cast some uncertainty into that thesis, which has become an investor’s base case,\" said <PERSON>, managing director for <LOCATION> power utilities and clean energy research at Jefferies.\\nThe analyst, however, noted data center deployment is \"very likely intact\" in the medium term. The question going forward is what happens in the later part of <DATE_TIME>.\\nHe said, \"Does that trend accelerate in the future? Does it kind of stabilize and even see some moderation of demand growth out <DATE_TIME>?\"\\nWall Street analysts recognize estimates of data center energy usage are bound to change over time as the technology becomes more efficient.\\n\"AI is, of course, very nascent, young technology, which means that trying to estimate how much energy AI will ultimately need is very speculative,\" <PERSON>, investment strategy analyst at <PERSON>, told Yahoo Finance on <DATE_TIME>.\\n\"It\\'s going to be a lot, and we should expect that electricity demand in the <LOCATION> and various other economies will accelerate as a result of <LOCATION>. It\\'s just a question of how much,\" he added.\\nThe increased energy needs are already visible. After <DATE_TIME> of relatively steady demand, <LOCATION> electricity consumption jumped by 2% in <DATE_TIME>, according to government data.\\nThe Energy Information Administration forecasts electricity demand will continue growing at that rate in <DATE_TIME> and <DATE_TIME>.\\nData center deployments are also happening at the same time that utility companies build out their electric grids and infrastructure.\\n\"All of this is a marathon rather than a sprint. It takes <DATE_TIME> to build data center projects, and it takes <DATE_TIME> to build power plants and transmission grids,\" said <PERSON>.\\n',\n",
              " 'piidetected': True,\n",
              " 'contextsupplied': 'AI-exposed power stocks rebounded on Tuesday after getting crushed the previous day alongside a tech rout following the release of a new AI model from the Chinese upstart DeepSeek.\\nConstellation Energy (CEG), the largest nuclear plant operator in the US, gained more than 1% after tumbling 21% in the prior session.\\nElectricity and power generator Vistra Corp (VST) jumped 9% after sinking by a record 28%. Meanwhile, power equipment maker and servicer GE Vernova (GEV) gained more than 7%, following a 21% drop.\\nIn late January, DeepSeek released a new AI model that was competitive with those of US rivals and cheaper to produce. The model surged in popularity, rising to the top of US iPhone downloads ahead of OpenAI\\'s ChatGPT, and won praise from prominent figures. American venture capitalist Marc Andreessen called the model “one of the most amazing and impressive breakthroughs I’ve ever seen.”\\nThe developments have rattled investors, who bid up power stocks on the belief that US hyperscalers will pour money into building out data centers required for AI use, thereby driving a surge in energy demand. Power stocks are coming off a ripping rally in 2024 and start of the year, with Constellation, Vistra, and GE Vernova all having touched record highs just last week.\\nNow, questions are emerging on whether long-term energy demand will be as strong as expected.\\n\"Hopefully we can kind of resume some of the upward [stock] trend, but this really does kind of cast some uncertainty into that thesis, which has become an investor’s base case,\" said Paul Zimbardo, managing director for US power utilities and clean energy research at Jefferies.\\nThe analyst, however, noted data center deployment is \"very likely intact\" in the medium term. The question going forward is what happens in the later part of the decade and 2030s.\\nHe said, \"Does that trend accelerate in the future? Does it kind of stabilize and even see some moderation of demand growth out later in the decade?\"\\nWall Street analysts recognize estimates of data center energy usage are bound to change over time as the technology becomes more efficient.\\n\"AI is, of course, very nascent, young technology, which means that trying to estimate how much energy AI will ultimately need is very speculative,\" Pavel Molchanov, investment strategy analyst at Raymond James, told Yahoo Finance on Tuesday.\\n\"It\\'s going to be a lot, and we should expect that electricity demand in the US and various other economies will accelerate as a result of AI. It\\'s just a question of how much,\" he added.\\nThe increased energy needs are already visible. After nearly two decades of relatively steady demand, US electricity consumption jumped by 2% in 2024, according to government data.\\nThe Energy Information Administration forecasts electricity demand will continue growing at that rate in this year and 2026.\\nData center deployments are also happening at the same time that utility companies build out their electric grids and infrastructure.\\n\"All of this is a marathon rather than a sprint. It takes years to build data center projects, and it takes years to build power plants and transmission grids,\" said Molchanov.\\n'}"
            ]
          },
          "metadata": {},
          "execution_count": 19
        }
      ]
    },
    {
      "cell_type": "code",
      "source": [
        "finra_continuingrisk= \"\"\"\n",
        "Continuing Risk: ACH Fraud\n",
        "FINRA has recently observed an increase in suspicious and fraudulent activity related to ACH fraud. This observation is consistent with recent findings and rulemaking activity from other organizations:\n",
        "    According to FinCEN, ACH fraud was the most reported suspicious activity in securities and futures SAR filings between 2014 and 2022.7\n",
        "    On October 1, 2024, the National Automated Clearinghouse Association (Nacha) issued new requirements that all non-consumer participants in the ACH network implement fraud detection and monitoring programs.\n",
        "    ACH fraud encompasses two fraud typologies:\n",
        "        First-party ACH fraud: A customer initiates a fraudulent ACH reclaim without sufficient funds, which typically comes in two forms:\n",
        "            Non-sufficient funds fraud (NSF)—taking advantage of the “instant funds credit” firms offer to customers that initiate ACH pulls into a brokerage account, which makes some or all the funds requested immediately available to the customer even though the funds have not settled in the account and there are no funds in the customer’s account; and\n",
        "            Unauthorized  reclaim fraud (URF)—reporting a false claim of third-party fraud within the ACH system’s 60-day reporting window, triggering the funds sent via ACH transfer to be “recalled” from the receiving account.\n",
        "        Third-party ACH fraud: A bad actor conducts a fraudulent ACH transaction by using stolen or synthetic information to:\n",
        "            take over a legitimate customer account at a depository financial institution (i.e., an account takeover); and\n",
        "            open a brokerage account in the name of the legitimate customer (i.e., new account fraud).\n",
        "            The bad actor then submits an ACH transfer request to:\n",
        "                pull assets from the legitimate customer’s compromised account at a depository financial institution; and\n",
        "                deposit them into the brokerage account fraudulently established in the legitimate customer’s name.8\n",
        "    The increase in ACH fraud may stem from bad actors’ preference to use ACH over wire transactions, since the ACH system can more easily, quickly and cheaply move funds between accounts.\n",
        "\n",
        "Some effective practices for firms to consider to help mitigate vulnerability to this type of fraud, especially those firms that offer fully online account opening services and rely on automated account opening or customer verification services, are to:\n",
        "    require additional identification and verification documents during account opening and initiation of ACH transfer requests, such as obtaining customer account statements from the originating depository financial institution (ODFI) prior to processing an ACH transaction;\n",
        "    implement internal procedures using Nacha’s recommended cutoff times for the same-day ACH function (which allows the financial institution to be notified more quickly of any issues with an ACH transaction, such as insufficient funds);\n",
        "    use micro-deposits, test deposits or test transactions as micro-entries to verify the connection to a customer’s bank account for funds transfer;\n",
        "    contract with third-party vendors that offer services to risk rank customers attempting to deposit funds in an account at a financial institution based on real time assessment of whether the account is open and in good standing, along with previous activity related to that account;\n",
        "    communicate known fraud scenarios, red flags, fake identities and electronic identifying information (e.g., IP addresses) to organizations such as the National Cyber-Forensics and Training Alliance (NCFTA), Early Warning Services (EWS) and InfraGard; and\n",
        "    limit the amount and number of outbound transfers from a brokerage account to help mitigate first-party ACH fraud, based on factors such as specific time periods, the age of an account or other potential red flags that could indicate the account is at risk for certain type of fraud.\n",
        "\n",
        "For additional guidance, FINRA recommends:\n",
        "\n",
        "    Regulatory Notice 21-14 (FINRA Alerts Firms to Recent Increase in ACH “Instant Funds” Abuse); and\n",
        "    Nacha’s ACH Operations Bulletin #1-2023 Update to Sample Written Statement of Unauthorized Debit.\n",
        "\n",
        "\"\"\""
      ],
      "metadata": {
        "id": "MjH26iYTQAJj"
      },
      "execution_count": 20,
      "outputs": []
    },
    {
      "cell_type": "code",
      "source": [
        "checkpiiinformation(contextstr=finra_continuingrisk)"
      ],
      "metadata": {
        "colab": {
          "base_uri": "https://localhost:8080/"
        },
        "id": "BUMQ-Jg_QS0y",
        "outputId": "09813328-cb39-40ce-ec3d-918155b1dc85"
      },
      "execution_count": 21,
      "outputs": [
        {
          "output_type": "execute_result",
          "data": {
            "text/plain": [
              "{'textdetected': ['between 2014', 'October 1, 2024', '60-day', 'the same-day'],\n",
              " 'entitiesdetected': ['DATE_TIME', 'DATE_TIME', 'DATE_TIME', 'DATE_TIME'],\n",
              " 'score': 0.85,\n",
              " 'anonimizedtext': '\\nContinuing Risk: ACH Fraud\\nFINRA has recently observed an increase in suspicious and fraudulent activity related to ACH fraud. This observation is consistent with recent findings and rulemaking activity from other organizations:\\n    According to FinCEN, ACH fraud was the most reported suspicious activity in securities and futures SAR filings <DATE_TIME> and 2022.7\\n    On <DATE_TIME>, the National Automated Clearinghouse Association (Nacha) issued new requirements that all non-consumer participants in the ACH network implement fraud detection and monitoring programs.\\n    ACH fraud encompasses two fraud typologies: \\n        First-party ACH fraud: A customer initiates a fraudulent ACH reclaim without sufficient funds, which typically comes in two forms:\\n            Non-sufficient funds fraud (NSF)—taking advantage of the “instant funds credit” firms offer to customers that initiate ACH pulls into a brokerage account, which makes some or all the funds requested immediately available to the customer even though the funds have not settled in the account and there are no funds in the customer’s account; and\\n            Unauthorized  reclaim fraud (URF)—reporting a false claim of third-party fraud within the ACH system’s <DATE_TIME> reporting window, triggering the funds sent via ACH transfer to be “recalled” from the receiving account. \\n        Third-party ACH fraud: A bad actor conducts a fraudulent ACH transaction by using stolen or synthetic information to:\\n            take over a legitimate customer account at a depository financial institution (i.e., an account takeover); and\\n            open a brokerage account in the name of the legitimate customer (i.e., new account fraud).\\n            The bad actor then submits an ACH transfer request to: \\n                pull assets from the legitimate customer’s compromised account at a depository financial institution; and \\n                deposit them into the brokerage account fraudulently established in the legitimate customer’s name.8\\n    The increase in ACH fraud may stem from bad actors’ preference to use ACH over wire transactions, since the ACH system can more easily, quickly and cheaply move funds between accounts. \\n\\nSome effective practices for firms to consider to help mitigate vulnerability to this type of fraud, especially those firms that offer fully online account opening services and rely on automated account opening or customer verification services, are to:\\n    require additional identification and verification documents during account opening and initiation of ACH transfer requests, such as obtaining customer account statements from the originating depository financial institution (ODFI) prior to processing an ACH transaction;\\n    implement internal procedures using Nacha’s recommended cutoff times for <DATE_TIME> ACH function (which allows the financial institution to be notified more quickly of any issues with an ACH transaction, such as insufficient funds);\\n    use micro-deposits, test deposits or test transactions as micro-entries to verify the connection to a customer’s bank account for funds transfer;\\n    contract with third-party vendors that offer services to risk rank customers attempting to deposit funds in an account at a financial institution based on real time assessment of whether the account is open and in good standing, along with previous activity related to that account;\\n    communicate known fraud scenarios, red flags, fake identities and electronic identifying information (e.g., IP addresses) to organizations such as the National Cyber-Forensics and Training Alliance (NCFTA), Early Warning Services (EWS) and InfraGard; and\\n    limit the amount and number of outbound transfers from a brokerage account to help mitigate first-party ACH fraud, based on factors such as specific time periods, the age of an account or other potential red flags that could indicate the account is at risk for certain type of fraud.\\n\\nFor additional guidance, FINRA recommends:\\n\\n    Regulatory Notice 21-14 (FINRA Alerts Firms to Recent Increase in ACH “Instant Funds” Abuse); and\\n    Nacha’s ACH Operations Bulletin #1-2023 Update to Sample Written Statement of Unauthorized Debit.\\n\\n',\n",
              " 'piidetected': True,\n",
              " 'contextsupplied': '\\nContinuing Risk: ACH Fraud\\nFINRA has recently observed an increase in suspicious and fraudulent activity related to ACH fraud. This observation is consistent with recent findings and rulemaking activity from other organizations:\\n    According to FinCEN, ACH fraud was the most reported suspicious activity in securities and futures SAR filings between 2014 and 2022.7\\n    On October 1, 2024, the National Automated Clearinghouse Association (Nacha) issued new requirements that all non-consumer participants in the ACH network implement fraud detection and monitoring programs.\\n    ACH fraud encompasses two fraud typologies: \\n        First-party ACH fraud: A customer initiates a fraudulent ACH reclaim without sufficient funds, which typically comes in two forms:\\n            Non-sufficient funds fraud (NSF)—taking advantage of the “instant funds credit” firms offer to customers that initiate ACH pulls into a brokerage account, which makes some or all the funds requested immediately available to the customer even though the funds have not settled in the account and there are no funds in the customer’s account; and\\n            Unauthorized  reclaim fraud (URF)—reporting a false claim of third-party fraud within the ACH system’s 60-day reporting window, triggering the funds sent via ACH transfer to be “recalled” from the receiving account. \\n        Third-party ACH fraud: A bad actor conducts a fraudulent ACH transaction by using stolen or synthetic information to:\\n            take over a legitimate customer account at a depository financial institution (i.e., an account takeover); and\\n            open a brokerage account in the name of the legitimate customer (i.e., new account fraud).\\n            The bad actor then submits an ACH transfer request to: \\n                pull assets from the legitimate customer’s compromised account at a depository financial institution; and \\n                deposit them into the brokerage account fraudulently established in the legitimate customer’s name.8\\n    The increase in ACH fraud may stem from bad actors’ preference to use ACH over wire transactions, since the ACH system can more easily, quickly and cheaply move funds between accounts. \\n\\nSome effective practices for firms to consider to help mitigate vulnerability to this type of fraud, especially those firms that offer fully online account opening services and rely on automated account opening or customer verification services, are to:\\n    require additional identification and verification documents during account opening and initiation of ACH transfer requests, such as obtaining customer account statements from the originating depository financial institution (ODFI) prior to processing an ACH transaction;\\n    implement internal procedures using Nacha’s recommended cutoff times for the same-day ACH function (which allows the financial institution to be notified more quickly of any issues with an ACH transaction, such as insufficient funds);\\n    use micro-deposits, test deposits or test transactions as micro-entries to verify the connection to a customer’s bank account for funds transfer;\\n    contract with third-party vendors that offer services to risk rank customers attempting to deposit funds in an account at a financial institution based on real time assessment of whether the account is open and in good standing, along with previous activity related to that account;\\n    communicate known fraud scenarios, red flags, fake identities and electronic identifying information (e.g., IP addresses) to organizations such as the National Cyber-Forensics and Training Alliance (NCFTA), Early Warning Services (EWS) and InfraGard; and\\n    limit the amount and number of outbound transfers from a brokerage account to help mitigate first-party ACH fraud, based on factors such as specific time periods, the age of an account or other potential red flags that could indicate the account is at risk for certain type of fraud.\\n\\nFor additional guidance, FINRA recommends:\\n\\n    Regulatory Notice 21-14 (FINRA Alerts Firms to Recent Increase in ACH “Instant Funds” Abuse); and\\n    Nacha’s ACH Operations Bulletin #1-2023 Update to Sample Written Statement of Unauthorized Debit.\\n\\n'}"
            ]
          },
          "metadata": {},
          "execution_count": 21
        }
      ]
    },
    {
      "cell_type": "code",
      "source": [
        "testlist =[\"Explain 314b\", \"How to update SSN in KYC\", \"Explain KYC\", \"How Fedline image search can be performed\",\"His new account is  3690859741294280 also what is 314b\",\n",
        "                \"what is a call out request\", \"Its a great day 314b JACK\", \"How crucial OFAC is in sanctions screening\", \"Explain 314b\", \"What is CIP\", \"Explain steps to follow as per FIU\", \"What is a CDD\", \"what is a callout request\",  \"How Fedline image search can be performed\" \"What is finra rule 3280c\",\n",
        "                \"When can we escalate to MLRO\", \"What role do CTRs play in AML\", \"How AML is monitored under FINRA OSJ\", \"What standards are set under FINRA Rule 3310 for AML\", \"How customer due diligence is ensured under FINRA Rule 3310\",\n",
        "                \"What is BSA\", \"What does FINRA Rule 2090 state\"]"
      ],
      "metadata": {
        "id": "tCDfxZxPczJl"
      },
      "execution_count": 25,
      "outputs": []
    },
    {
      "cell_type": "code",
      "source": [
        "from ptest import *\n",
        "resultdf = getdfresponse(testlist)"
      ],
      "metadata": {
        "id": "XE7jybU34Dlb"
      },
      "execution_count": 26,
      "outputs": []
    },
    {
      "cell_type": "code",
      "source": [
        "resultdf"
      ],
      "metadata": {
        "colab": {
          "base_uri": "https://localhost:8080/",
          "height": 899
        },
        "id": "IBh4U5V67Dcf",
        "outputId": "bf3b6eaa-4843-43bd-c127-e4f808f08c99"
      },
      "execution_count": 27,
      "outputs": [
        {
          "output_type": "execute_result",
          "data": {
            "text/plain": [
              "    piidetected  \\\n",
              "0         False   \n",
              "1         False   \n",
              "2         False   \n",
              "3         False   \n",
              "4          True   \n",
              "5         False   \n",
              "6         False   \n",
              "7         False   \n",
              "8         False   \n",
              "9         False   \n",
              "10        False   \n",
              "11        False   \n",
              "12        False   \n",
              "13        False   \n",
              "14        False   \n",
              "15        False   \n",
              "16        False   \n",
              "17        False   \n",
              "18        False   \n",
              "19        False   \n",
              "20        False   \n",
              "\n",
              "                                                      contextsupplied  \\\n",
              "0                                                        Explain 314b   \n",
              "1                                            How to update SSN in KYC   \n",
              "2                                                         Explain KYC   \n",
              "3                           How Fedline image search can be performed   \n",
              "4              His new account is  3690859741294280 also what is 314b   \n",
              "5                                          what is a call out request   \n",
              "6                                           Its a great day 314b JACK   \n",
              "7                          How crucial OFAC is in sanctions screening   \n",
              "8                                                        Explain 314b   \n",
              "9                                                         What is CIP   \n",
              "10                                 Explain steps to follow as per FIU   \n",
              "11                                                      What is a CDD   \n",
              "12                                          what is a callout request   \n",
              "13  How Fedline image search can be performedWhat is finra rule 3280c   \n",
              "14                                       When can we escalate to MLRO   \n",
              "15                                      What role do CTRs play in AML   \n",
              "16                               How AML is monitored under FINRA OSJ   \n",
              "17               What standards are set under FINRA Rule 3310 for AML   \n",
              "18        How customer due diligence is ensured under FINRA Rule 3310   \n",
              "19                                                        What is BSA   \n",
              "20                                    What does FINRA Rule 2090 state   \n",
              "\n",
              "          textdetected  entitiesdetected  score  \\\n",
              "0                  NaN               NaN    NaN   \n",
              "1                  NaN               NaN    NaN   \n",
              "2                  NaN               NaN    NaN   \n",
              "3                  NaN               NaN    NaN   \n",
              "4   [3690859741294280]  [US_BANK_NUMBER]    0.4   \n",
              "5                  NaN               NaN    NaN   \n",
              "6                  NaN               NaN    NaN   \n",
              "7                  NaN               NaN    NaN   \n",
              "8                  NaN               NaN    NaN   \n",
              "9                  NaN               NaN    NaN   \n",
              "10                 NaN               NaN    NaN   \n",
              "11                 NaN               NaN    NaN   \n",
              "12                 NaN               NaN    NaN   \n",
              "13                 NaN               NaN    NaN   \n",
              "14                 NaN               NaN    NaN   \n",
              "15                 NaN               NaN    NaN   \n",
              "16                 NaN               NaN    NaN   \n",
              "17                 NaN               NaN    NaN   \n",
              "18                 NaN               NaN    NaN   \n",
              "19                 NaN               NaN    NaN   \n",
              "20                 NaN               NaN    NaN   \n",
              "\n",
              "                                            anonimizedtext  \n",
              "0                                                      NaN  \n",
              "1                                                      NaN  \n",
              "2                                                      NaN  \n",
              "3                                                      NaN  \n",
              "4   His new account is  <US_BANK_NUMBER> also what is 314b  \n",
              "5                                                      NaN  \n",
              "6                                                      NaN  \n",
              "7                                                      NaN  \n",
              "8                                                      NaN  \n",
              "9                                                      NaN  \n",
              "10                                                     NaN  \n",
              "11                                                     NaN  \n",
              "12                                                     NaN  \n",
              "13                                                     NaN  \n",
              "14                                                     NaN  \n",
              "15                                                     NaN  \n",
              "16                                                     NaN  \n",
              "17                                                     NaN  \n",
              "18                                                     NaN  \n",
              "19                                                     NaN  \n",
              "20                                                     NaN  "
            ],
            "text/html": [
              "\n",
              "  <div id=\"df-361bfcf0-4644-4c6f-a4e4-e982f384f7ac\" class=\"colab-df-container\">\n",
              "    <div>\n",
              "<style scoped>\n",
              "    .dataframe tbody tr th:only-of-type {\n",
              "        vertical-align: middle;\n",
              "    }\n",
              "\n",
              "    .dataframe tbody tr th {\n",
              "        vertical-align: top;\n",
              "    }\n",
              "\n",
              "    .dataframe thead th {\n",
              "        text-align: right;\n",
              "    }\n",
              "</style>\n",
              "<table border=\"1\" class=\"dataframe\">\n",
              "  <thead>\n",
              "    <tr style=\"text-align: right;\">\n",
              "      <th></th>\n",
              "      <th>piidetected</th>\n",
              "      <th>contextsupplied</th>\n",
              "      <th>textdetected</th>\n",
              "      <th>entitiesdetected</th>\n",
              "      <th>score</th>\n",
              "      <th>anonimizedtext</th>\n",
              "    </tr>\n",
              "  </thead>\n",
              "  <tbody>\n",
              "    <tr>\n",
              "      <th>0</th>\n",
              "      <td>False</td>\n",
              "      <td>Explain 314b</td>\n",
              "      <td>NaN</td>\n",
              "      <td>NaN</td>\n",
              "      <td>NaN</td>\n",
              "      <td>NaN</td>\n",
              "    </tr>\n",
              "    <tr>\n",
              "      <th>1</th>\n",
              "      <td>False</td>\n",
              "      <td>How to update SSN in KYC</td>\n",
              "      <td>NaN</td>\n",
              "      <td>NaN</td>\n",
              "      <td>NaN</td>\n",
              "      <td>NaN</td>\n",
              "    </tr>\n",
              "    <tr>\n",
              "      <th>2</th>\n",
              "      <td>False</td>\n",
              "      <td>Explain KYC</td>\n",
              "      <td>NaN</td>\n",
              "      <td>NaN</td>\n",
              "      <td>NaN</td>\n",
              "      <td>NaN</td>\n",
              "    </tr>\n",
              "    <tr>\n",
              "      <th>3</th>\n",
              "      <td>False</td>\n",
              "      <td>How Fedline image search can be performed</td>\n",
              "      <td>NaN</td>\n",
              "      <td>NaN</td>\n",
              "      <td>NaN</td>\n",
              "      <td>NaN</td>\n",
              "    </tr>\n",
              "    <tr>\n",
              "      <th>4</th>\n",
              "      <td>True</td>\n",
              "      <td>His new account is  3690859741294280 also what is 314b</td>\n",
              "      <td>[3690859741294280]</td>\n",
              "      <td>[US_BANK_NUMBER]</td>\n",
              "      <td>0.4</td>\n",
              "      <td>His new account is  &lt;US_BANK_NUMBER&gt; also what is 314b</td>\n",
              "    </tr>\n",
              "    <tr>\n",
              "      <th>5</th>\n",
              "      <td>False</td>\n",
              "      <td>what is a call out request</td>\n",
              "      <td>NaN</td>\n",
              "      <td>NaN</td>\n",
              "      <td>NaN</td>\n",
              "      <td>NaN</td>\n",
              "    </tr>\n",
              "    <tr>\n",
              "      <th>6</th>\n",
              "      <td>False</td>\n",
              "      <td>Its a great day 314b JACK</td>\n",
              "      <td>NaN</td>\n",
              "      <td>NaN</td>\n",
              "      <td>NaN</td>\n",
              "      <td>NaN</td>\n",
              "    </tr>\n",
              "    <tr>\n",
              "      <th>7</th>\n",
              "      <td>False</td>\n",
              "      <td>How crucial OFAC is in sanctions screening</td>\n",
              "      <td>NaN</td>\n",
              "      <td>NaN</td>\n",
              "      <td>NaN</td>\n",
              "      <td>NaN</td>\n",
              "    </tr>\n",
              "    <tr>\n",
              "      <th>8</th>\n",
              "      <td>False</td>\n",
              "      <td>Explain 314b</td>\n",
              "      <td>NaN</td>\n",
              "      <td>NaN</td>\n",
              "      <td>NaN</td>\n",
              "      <td>NaN</td>\n",
              "    </tr>\n",
              "    <tr>\n",
              "      <th>9</th>\n",
              "      <td>False</td>\n",
              "      <td>What is CIP</td>\n",
              "      <td>NaN</td>\n",
              "      <td>NaN</td>\n",
              "      <td>NaN</td>\n",
              "      <td>NaN</td>\n",
              "    </tr>\n",
              "    <tr>\n",
              "      <th>10</th>\n",
              "      <td>False</td>\n",
              "      <td>Explain steps to follow as per FIU</td>\n",
              "      <td>NaN</td>\n",
              "      <td>NaN</td>\n",
              "      <td>NaN</td>\n",
              "      <td>NaN</td>\n",
              "    </tr>\n",
              "    <tr>\n",
              "      <th>11</th>\n",
              "      <td>False</td>\n",
              "      <td>What is a CDD</td>\n",
              "      <td>NaN</td>\n",
              "      <td>NaN</td>\n",
              "      <td>NaN</td>\n",
              "      <td>NaN</td>\n",
              "    </tr>\n",
              "    <tr>\n",
              "      <th>12</th>\n",
              "      <td>False</td>\n",
              "      <td>what is a callout request</td>\n",
              "      <td>NaN</td>\n",
              "      <td>NaN</td>\n",
              "      <td>NaN</td>\n",
              "      <td>NaN</td>\n",
              "    </tr>\n",
              "    <tr>\n",
              "      <th>13</th>\n",
              "      <td>False</td>\n",
              "      <td>How Fedline image search can be performedWhat is finra rule 3280c</td>\n",
              "      <td>NaN</td>\n",
              "      <td>NaN</td>\n",
              "      <td>NaN</td>\n",
              "      <td>NaN</td>\n",
              "    </tr>\n",
              "    <tr>\n",
              "      <th>14</th>\n",
              "      <td>False</td>\n",
              "      <td>When can we escalate to MLRO</td>\n",
              "      <td>NaN</td>\n",
              "      <td>NaN</td>\n",
              "      <td>NaN</td>\n",
              "      <td>NaN</td>\n",
              "    </tr>\n",
              "    <tr>\n",
              "      <th>15</th>\n",
              "      <td>False</td>\n",
              "      <td>What role do CTRs play in AML</td>\n",
              "      <td>NaN</td>\n",
              "      <td>NaN</td>\n",
              "      <td>NaN</td>\n",
              "      <td>NaN</td>\n",
              "    </tr>\n",
              "    <tr>\n",
              "      <th>16</th>\n",
              "      <td>False</td>\n",
              "      <td>How AML is monitored under FINRA OSJ</td>\n",
              "      <td>NaN</td>\n",
              "      <td>NaN</td>\n",
              "      <td>NaN</td>\n",
              "      <td>NaN</td>\n",
              "    </tr>\n",
              "    <tr>\n",
              "      <th>17</th>\n",
              "      <td>False</td>\n",
              "      <td>What standards are set under FINRA Rule 3310 for AML</td>\n",
              "      <td>NaN</td>\n",
              "      <td>NaN</td>\n",
              "      <td>NaN</td>\n",
              "      <td>NaN</td>\n",
              "    </tr>\n",
              "    <tr>\n",
              "      <th>18</th>\n",
              "      <td>False</td>\n",
              "      <td>How customer due diligence is ensured under FINRA Rule 3310</td>\n",
              "      <td>NaN</td>\n",
              "      <td>NaN</td>\n",
              "      <td>NaN</td>\n",
              "      <td>NaN</td>\n",
              "    </tr>\n",
              "    <tr>\n",
              "      <th>19</th>\n",
              "      <td>False</td>\n",
              "      <td>What is BSA</td>\n",
              "      <td>NaN</td>\n",
              "      <td>NaN</td>\n",
              "      <td>NaN</td>\n",
              "      <td>NaN</td>\n",
              "    </tr>\n",
              "    <tr>\n",
              "      <th>20</th>\n",
              "      <td>False</td>\n",
              "      <td>What does FINRA Rule 2090 state</td>\n",
              "      <td>NaN</td>\n",
              "      <td>NaN</td>\n",
              "      <td>NaN</td>\n",
              "      <td>NaN</td>\n",
              "    </tr>\n",
              "  </tbody>\n",
              "</table>\n",
              "</div>\n",
              "    <div class=\"colab-df-buttons\">\n",
              "\n",
              "  <div class=\"colab-df-container\">\n",
              "    <button class=\"colab-df-convert\" onclick=\"convertToInteractive('df-361bfcf0-4644-4c6f-a4e4-e982f384f7ac')\"\n",
              "            title=\"Convert this dataframe to an interactive table.\"\n",
              "            style=\"display:none;\">\n",
              "\n",
              "  <svg xmlns=\"http://www.w3.org/2000/svg\" height=\"24px\" viewBox=\"0 -960 960 960\">\n",
              "    <path d=\"M120-120v-720h720v720H120Zm60-500h600v-160H180v160Zm220 220h160v-160H400v160Zm0 220h160v-160H400v160ZM180-400h160v-160H180v160Zm440 0h160v-160H620v160ZM180-180h160v-160H180v160Zm440 0h160v-160H620v160Z\"/>\n",
              "  </svg>\n",
              "    </button>\n",
              "\n",
              "  <style>\n",
              "    .colab-df-container {\n",
              "      display:flex;\n",
              "      gap: 12px;\n",
              "    }\n",
              "\n",
              "    .colab-df-convert {\n",
              "      background-color: #E8F0FE;\n",
              "      border: none;\n",
              "      border-radius: 50%;\n",
              "      cursor: pointer;\n",
              "      display: none;\n",
              "      fill: #1967D2;\n",
              "      height: 32px;\n",
              "      padding: 0 0 0 0;\n",
              "      width: 32px;\n",
              "    }\n",
              "\n",
              "    .colab-df-convert:hover {\n",
              "      background-color: #E2EBFA;\n",
              "      box-shadow: 0px 1px 2px rgba(60, 64, 67, 0.3), 0px 1px 3px 1px rgba(60, 64, 67, 0.15);\n",
              "      fill: #174EA6;\n",
              "    }\n",
              "\n",
              "    .colab-df-buttons div {\n",
              "      margin-bottom: 4px;\n",
              "    }\n",
              "\n",
              "    [theme=dark] .colab-df-convert {\n",
              "      background-color: #3B4455;\n",
              "      fill: #D2E3FC;\n",
              "    }\n",
              "\n",
              "    [theme=dark] .colab-df-convert:hover {\n",
              "      background-color: #434B5C;\n",
              "      box-shadow: 0px 1px 3px 1px rgba(0, 0, 0, 0.15);\n",
              "      filter: drop-shadow(0px 1px 2px rgba(0, 0, 0, 0.3));\n",
              "      fill: #FFFFFF;\n",
              "    }\n",
              "  </style>\n",
              "\n",
              "    <script>\n",
              "      const buttonEl =\n",
              "        document.querySelector('#df-361bfcf0-4644-4c6f-a4e4-e982f384f7ac button.colab-df-convert');\n",
              "      buttonEl.style.display =\n",
              "        google.colab.kernel.accessAllowed ? 'block' : 'none';\n",
              "\n",
              "      async function convertToInteractive(key) {\n",
              "        const element = document.querySelector('#df-361bfcf0-4644-4c6f-a4e4-e982f384f7ac');\n",
              "        const dataTable =\n",
              "          await google.colab.kernel.invokeFunction('convertToInteractive',\n",
              "                                                    [key], {});\n",
              "        if (!dataTable) return;\n",
              "\n",
              "        const docLinkHtml = 'Like what you see? Visit the ' +\n",
              "          '<a target=\"_blank\" href=https://colab.research.google.com/notebooks/data_table.ipynb>data table notebook</a>'\n",
              "          + ' to learn more about interactive tables.';\n",
              "        element.innerHTML = '';\n",
              "        dataTable['output_type'] = 'display_data';\n",
              "        await google.colab.output.renderOutput(dataTable, element);\n",
              "        const docLink = document.createElement('div');\n",
              "        docLink.innerHTML = docLinkHtml;\n",
              "        element.appendChild(docLink);\n",
              "      }\n",
              "    </script>\n",
              "  </div>\n",
              "\n",
              "\n",
              "<div id=\"df-030f0f84-3266-4aa5-9f32-371eaf10b3a3\">\n",
              "  <button class=\"colab-df-quickchart\" onclick=\"quickchart('df-030f0f84-3266-4aa5-9f32-371eaf10b3a3')\"\n",
              "            title=\"Suggest charts\"\n",
              "            style=\"display:none;\">\n",
              "\n",
              "<svg xmlns=\"http://www.w3.org/2000/svg\" height=\"24px\"viewBox=\"0 0 24 24\"\n",
              "     width=\"24px\">\n",
              "    <g>\n",
              "        <path d=\"M19 3H5c-1.1 0-2 .9-2 2v14c0 1.1.9 2 2 2h14c1.1 0 2-.9 2-2V5c0-1.1-.9-2-2-2zM9 17H7v-7h2v7zm4 0h-2V7h2v10zm4 0h-2v-4h2v4z\"/>\n",
              "    </g>\n",
              "</svg>\n",
              "  </button>\n",
              "\n",
              "<style>\n",
              "  .colab-df-quickchart {\n",
              "      --bg-color: #E8F0FE;\n",
              "      --fill-color: #1967D2;\n",
              "      --hover-bg-color: #E2EBFA;\n",
              "      --hover-fill-color: #174EA6;\n",
              "      --disabled-fill-color: #AAA;\n",
              "      --disabled-bg-color: #DDD;\n",
              "  }\n",
              "\n",
              "  [theme=dark] .colab-df-quickchart {\n",
              "      --bg-color: #3B4455;\n",
              "      --fill-color: #D2E3FC;\n",
              "      --hover-bg-color: #434B5C;\n",
              "      --hover-fill-color: #FFFFFF;\n",
              "      --disabled-bg-color: #3B4455;\n",
              "      --disabled-fill-color: #666;\n",
              "  }\n",
              "\n",
              "  .colab-df-quickchart {\n",
              "    background-color: var(--bg-color);\n",
              "    border: none;\n",
              "    border-radius: 50%;\n",
              "    cursor: pointer;\n",
              "    display: none;\n",
              "    fill: var(--fill-color);\n",
              "    height: 32px;\n",
              "    padding: 0;\n",
              "    width: 32px;\n",
              "  }\n",
              "\n",
              "  .colab-df-quickchart:hover {\n",
              "    background-color: var(--hover-bg-color);\n",
              "    box-shadow: 0 1px 2px rgba(60, 64, 67, 0.3), 0 1px 3px 1px rgba(60, 64, 67, 0.15);\n",
              "    fill: var(--button-hover-fill-color);\n",
              "  }\n",
              "\n",
              "  .colab-df-quickchart-complete:disabled,\n",
              "  .colab-df-quickchart-complete:disabled:hover {\n",
              "    background-color: var(--disabled-bg-color);\n",
              "    fill: var(--disabled-fill-color);\n",
              "    box-shadow: none;\n",
              "  }\n",
              "\n",
              "  .colab-df-spinner {\n",
              "    border: 2px solid var(--fill-color);\n",
              "    border-color: transparent;\n",
              "    border-bottom-color: var(--fill-color);\n",
              "    animation:\n",
              "      spin 1s steps(1) infinite;\n",
              "  }\n",
              "\n",
              "  @keyframes spin {\n",
              "    0% {\n",
              "      border-color: transparent;\n",
              "      border-bottom-color: var(--fill-color);\n",
              "      border-left-color: var(--fill-color);\n",
              "    }\n",
              "    20% {\n",
              "      border-color: transparent;\n",
              "      border-left-color: var(--fill-color);\n",
              "      border-top-color: var(--fill-color);\n",
              "    }\n",
              "    30% {\n",
              "      border-color: transparent;\n",
              "      border-left-color: var(--fill-color);\n",
              "      border-top-color: var(--fill-color);\n",
              "      border-right-color: var(--fill-color);\n",
              "    }\n",
              "    40% {\n",
              "      border-color: transparent;\n",
              "      border-right-color: var(--fill-color);\n",
              "      border-top-color: var(--fill-color);\n",
              "    }\n",
              "    60% {\n",
              "      border-color: transparent;\n",
              "      border-right-color: var(--fill-color);\n",
              "    }\n",
              "    80% {\n",
              "      border-color: transparent;\n",
              "      border-right-color: var(--fill-color);\n",
              "      border-bottom-color: var(--fill-color);\n",
              "    }\n",
              "    90% {\n",
              "      border-color: transparent;\n",
              "      border-bottom-color: var(--fill-color);\n",
              "    }\n",
              "  }\n",
              "</style>\n",
              "\n",
              "  <script>\n",
              "    async function quickchart(key) {\n",
              "      const quickchartButtonEl =\n",
              "        document.querySelector('#' + key + ' button');\n",
              "      quickchartButtonEl.disabled = true;  // To prevent multiple clicks.\n",
              "      quickchartButtonEl.classList.add('colab-df-spinner');\n",
              "      try {\n",
              "        const charts = await google.colab.kernel.invokeFunction(\n",
              "            'suggestCharts', [key], {});\n",
              "      } catch (error) {\n",
              "        console.error('Error during call to suggestCharts:', error);\n",
              "      }\n",
              "      quickchartButtonEl.classList.remove('colab-df-spinner');\n",
              "      quickchartButtonEl.classList.add('colab-df-quickchart-complete');\n",
              "    }\n",
              "    (() => {\n",
              "      let quickchartButtonEl =\n",
              "        document.querySelector('#df-030f0f84-3266-4aa5-9f32-371eaf10b3a3 button');\n",
              "      quickchartButtonEl.style.display =\n",
              "        google.colab.kernel.accessAllowed ? 'block' : 'none';\n",
              "    })();\n",
              "  </script>\n",
              "</div>\n",
              "\n",
              "  <div id=\"id_309dbea9-933f-4704-bf9e-e290ec282cff\">\n",
              "    <style>\n",
              "      .colab-df-generate {\n",
              "        background-color: #E8F0FE;\n",
              "        border: none;\n",
              "        border-radius: 50%;\n",
              "        cursor: pointer;\n",
              "        display: none;\n",
              "        fill: #1967D2;\n",
              "        height: 32px;\n",
              "        padding: 0 0 0 0;\n",
              "        width: 32px;\n",
              "      }\n",
              "\n",
              "      .colab-df-generate:hover {\n",
              "        background-color: #E2EBFA;\n",
              "        box-shadow: 0px 1px 2px rgba(60, 64, 67, 0.3), 0px 1px 3px 1px rgba(60, 64, 67, 0.15);\n",
              "        fill: #174EA6;\n",
              "      }\n",
              "\n",
              "      [theme=dark] .colab-df-generate {\n",
              "        background-color: #3B4455;\n",
              "        fill: #D2E3FC;\n",
              "      }\n",
              "\n",
              "      [theme=dark] .colab-df-generate:hover {\n",
              "        background-color: #434B5C;\n",
              "        box-shadow: 0px 1px 3px 1px rgba(0, 0, 0, 0.15);\n",
              "        filter: drop-shadow(0px 1px 2px rgba(0, 0, 0, 0.3));\n",
              "        fill: #FFFFFF;\n",
              "      }\n",
              "    </style>\n",
              "    <button class=\"colab-df-generate\" onclick=\"generateWithVariable('resultdf')\"\n",
              "            title=\"Generate code using this dataframe.\"\n",
              "            style=\"display:none;\">\n",
              "\n",
              "  <svg xmlns=\"http://www.w3.org/2000/svg\" height=\"24px\"viewBox=\"0 0 24 24\"\n",
              "       width=\"24px\">\n",
              "    <path d=\"M7,19H8.4L18.45,9,17,7.55,7,17.6ZM5,21V16.75L18.45,3.32a2,2,0,0,1,2.83,0l1.4,1.43a1.91,1.91,0,0,1,.58,1.4,1.91,1.91,0,0,1-.58,1.4L9.25,21ZM18.45,9,17,7.55Zm-12,3A5.31,5.31,0,0,0,4.9,8.1,5.31,5.31,0,0,0,1,6.5,5.31,5.31,0,0,0,4.9,4.9,5.31,5.31,0,0,0,6.5,1,5.31,5.31,0,0,0,8.1,4.9,5.31,5.31,0,0,0,12,6.5,5.46,5.46,0,0,0,6.5,12Z\"/>\n",
              "  </svg>\n",
              "    </button>\n",
              "    <script>\n",
              "      (() => {\n",
              "      const buttonEl =\n",
              "        document.querySelector('#id_309dbea9-933f-4704-bf9e-e290ec282cff button.colab-df-generate');\n",
              "      buttonEl.style.display =\n",
              "        google.colab.kernel.accessAllowed ? 'block' : 'none';\n",
              "\n",
              "      buttonEl.onclick = () => {\n",
              "        google.colab.notebook.generateWithVariable('resultdf');\n",
              "      }\n",
              "      })();\n",
              "    </script>\n",
              "  </div>\n",
              "\n",
              "    </div>\n",
              "  </div>\n"
            ],
            "application/vnd.google.colaboratory.intrinsic+json": {
              "type": "dataframe",
              "variable_name": "resultdf",
              "summary": "{\n  \"name\": \"resultdf\",\n  \"rows\": 21,\n  \"fields\": [\n    {\n      \"column\": \"piidetected\",\n      \"properties\": {\n        \"dtype\": \"boolean\",\n        \"num_unique_values\": 2,\n        \"samples\": [\n          true,\n          false\n        ],\n        \"semantic_type\": \"\",\n        \"description\": \"\"\n      }\n    },\n    {\n      \"column\": \"contextsupplied\",\n      \"properties\": {\n        \"dtype\": \"string\",\n        \"num_unique_values\": 20,\n        \"samples\": [\n          \"Explain 314b\",\n          \"How customer due diligence is ensured under FINRA Rule 3310\"\n        ],\n        \"semantic_type\": \"\",\n        \"description\": \"\"\n      }\n    },\n    {\n      \"column\": \"textdetected\",\n      \"properties\": {\n        \"dtype\": \"object\",\n        \"semantic_type\": \"\",\n        \"description\": \"\"\n      }\n    },\n    {\n      \"column\": \"entitiesdetected\",\n      \"properties\": {\n        \"dtype\": \"object\",\n        \"semantic_type\": \"\",\n        \"description\": \"\"\n      }\n    },\n    {\n      \"column\": \"score\",\n      \"properties\": {\n        \"dtype\": \"number\",\n        \"std\": null,\n        \"min\": 0.4,\n        \"max\": 0.4,\n        \"num_unique_values\": 1,\n        \"samples\": [\n          0.4\n        ],\n        \"semantic_type\": \"\",\n        \"description\": \"\"\n      }\n    },\n    {\n      \"column\": \"anonimizedtext\",\n      \"properties\": {\n        \"dtype\": \"category\",\n        \"num_unique_values\": 1,\n        \"samples\": [\n          \"His new account is  <US_BANK_NUMBER> also what is 314b\"\n        ],\n        \"semantic_type\": \"\",\n        \"description\": \"\"\n      }\n    }\n  ]\n}"
            }
          },
          "metadata": {},
          "execution_count": 27
        }
      ]
    },
    {
      "cell_type": "markdown",
      "source": [
        "References:\n",
        "\n",
        "1) Caroline Valetkevitch, Reuters,  Nasdaq leads Wall St higher; tech shares recover from Monday's sell-off https://finance.yahoo.com/news/p-nasdaq-futures-regain-ground-103024570.html\n",
        "\n",
        "2) Laura Bratton, Yahoo Finance, Nvidia stock begins recovery after DeepSeek AI frenzy prompted near $600 billion loss, https://finance.yahoo.com/news/asia-shares-mixed-us-tech-035042922.html\n",
        "\n",
        "3) Kenneth Niemeyer,Yahoo Finance, Coinbase CEO Brian Armstrong says there are 1 million new cryptocurrencies created every week,  https://finance.yahoo.com/news/coinbase-ceo-brian-armstrong-says-214529402.html\n",
        "\n",
        "4) Ines Ferré , Yahoo Finance, AI-exposed power stocks rebound after DeepSeek release casts 'uncertainty' over industry, https://finance.yahoo.com/news/ai-exposed-power-stocks-rebound-after-deepseek-release-casts-uncertainty-over-industry-194013211.html\n",
        "\n",
        "5) finra.org,Continuing Risk: ACH Fraud\n",
        ",2025 FINRA Annual Regulatory Oversight Report, https://www.finra.org/rules-guidance/guidance/reports/2025-finra-annual-regulatory-oversight-report/aml\n",
        "\n",
        "6)finra.org,Finra AML guidance, https://www.finra.org/rules-guidance/key-topics/aml#guidance"
      ],
      "metadata": {
        "id": "jW5LT7Rh0zJ9"
      }
    }
  ]
}